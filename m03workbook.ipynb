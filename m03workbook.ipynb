{
 "cells": [
  {
   "cell_type": "code",
   "execution_count": 63,
   "metadata": {},
   "outputs": [
    {
     "name": "stdout",
     "output_type": "stream",
     "text": [
      "['mozzarella', 'cinderella', 'salmonella']\n"
     ]
    }
   ],
   "source": [
    "#7.4\n",
    "things = [\"mozzarella\", \"cinderella\", \"salmonella\"]\n",
    "print(things)\n"
   ]
  },
  {
   "cell_type": "code",
   "execution_count": 67,
   "metadata": {},
   "outputs": [
    {
     "name": "stdout",
     "output_type": "stream",
     "text": [
      "['mozzarella', 'CINDERELLA', 'salmonella']\n"
     ]
    }
   ],
   "source": [
    "#7.5\n",
    "things = [\"mozzarella\", \"cinderella\", \"salmonella\"]\n",
    "p2_things = []\n",
    "p2_things = [things[0] , things[1].upper() , things[2]]\n",
    "print (p2_things)\n"
   ]
  },
  {
   "cell_type": "code",
   "execution_count": 77,
   "metadata": {},
   "outputs": [
    {
     "name": "stdout",
     "output_type": "stream",
     "text": [
      "['MOZZARELLA', 'Cinderella', 'salmonella']\n"
     ]
    }
   ],
   "source": [
    "#7.6\n",
    "things = [\"mozzarella\", \"Cinderella\", \"salmonella\"]\n",
    "p2_things = []\n",
    "p2_things = [things[0].upper() , things[1] , things[2]]\n",
    "print (p2_things)"
   ]
  },
  {
   "cell_type": "code",
   "execution_count": 78,
   "metadata": {},
   "outputs": [
    {
     "name": "stdout",
     "output_type": "stream",
     "text": [
      "You have won the Nobel Prize for ridding the list of disease. New list is:  Mozzarella and Cinderella\n"
     ]
    }
   ],
   "source": [
    "#7.7\n",
    "things = [\"mozzarella\", \"cinderella\", \"salmonella\"]\n",
    "\n",
    "things.remove(\"salmonella\")\n",
    "thingsnew = \" and \". join(word.capitalize() for word in things)\n",
    "print(\"You have won the Nobel Prize for ridding the list of disease. New list is: \" , thingsnew)\n"
   ]
  },
  {
   "cell_type": "code",
   "execution_count": 94,
   "metadata": {},
   "outputs": [
    {
     "name": "stdout",
     "output_type": "stream",
     "text": [
      "['Harry', 'Ron', 'Hermione']\n"
     ]
    }
   ],
   "source": [
    "#9.1\n",
    "names = []\n",
    "\n",
    "def good():\n",
    "    name = [['Harry','Draco', 'Ron','Luna', 'Hermione']]\n",
    "    if name in list:\n",
    "        pass\n",
    "    else:\n",
    "        list.append(names)\n",
    "    return list\n",
    "\n",
    "names= ['Harry', 'Ron', 'Hermione']\n",
    "print(names)\n",
    "        \n",
    "    "
   ]
  },
  {
   "cell_type": "code",
   "execution_count": 83,
   "metadata": {},
   "outputs": [
    {
     "name": "stdout",
     "output_type": "stream",
     "text": [
      "1\n"
     ]
    }
   ],
   "source": [
    "#9.2\n",
    "def get_odd():\n",
    "    for i in range (10):\n",
    "        if i%2 !=0:\n",
    "            return i \n",
    "\n",
    "print (get_odd())\n"
   ]
  }
 ],
 "metadata": {
  "kernelspec": {
   "display_name": "Python 3",
   "language": "python",
   "name": "python3"
  },
  "language_info": {
   "codemirror_mode": {
    "name": "ipython",
    "version": 3
   },
   "file_extension": ".py",
   "mimetype": "text/x-python",
   "name": "python",
   "nbconvert_exporter": "python",
   "pygments_lexer": "ipython3",
   "version": "3.9.6"
  }
 },
 "nbformat": 4,
 "nbformat_minor": 2
}
