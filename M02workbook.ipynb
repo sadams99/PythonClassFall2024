{
 "cells": [
  {
   "cell_type": "code",
   "execution_count": 1,
   "metadata": {},
   "outputs": [
    {
     "name": "stdout",
     "output_type": "stream",
     "text": [
      "Guess valus is = 3\n",
      "Secret value is = 5\n",
      "Too LOW!\n"
     ]
    }
   ],
   "source": [
    "#4.1\n",
    "\n",
    "import random\n",
    "secret = random.randint(1,10)\n",
    "guess = random.randint(1,10)\n",
    "\n",
    "print (\"Guess valus is =\",guess)\n",
    "print (\"Secret value is =\",secret)\n",
    "\n",
    "if guess < secret:\n",
    "    print (\"Too LOW!\")\n",
    "elif guess >= secret:\n",
    "    print(\"Too HIGH!\")\n",
    "else:\n",
    "    print (\"Just right!\")"
   ]
  },
  {
   "cell_type": "code",
   "execution_count": 6,
   "metadata": {},
   "outputs": [
    {
     "name": "stdout",
     "output_type": "stream",
     "text": [
      "Cherry\n"
     ]
    }
   ],
   "source": [
    "#4.2\n",
    "small = True\n",
    "green = False\n",
    "\n",
    "if small and green:\n",
    "    print (\"Pea\")\n",
    "elif small and not green:\n",
    "    print(\"Cherry\")\n",
    "elif not small and green:\n",
    "    print (\"Watermelon\")\n",
    "elif not small and not green:\n",
    "    print (\"Pumpkin\")"
   ]
  },
  {
   "cell_type": "code",
   "execution_count": 14,
   "metadata": {},
   "outputs": [
    {
     "name": "stdout",
     "output_type": "stream",
     "text": [
      "3\n",
      "2\n",
      "1\n",
      "0\n"
     ]
    }
   ],
   "source": [
    "#6.1 Use a for loop to print the values of the list [3, 2, 1, 0]\n",
    "\n",
    "nums = [3,2,1,0]\n",
    "for x in range(len(nums)):\n",
    "    print (nums[x])"
   ]
  },
  {
   "cell_type": "code",
   "execution_count": 18,
   "metadata": {},
   "outputs": [
    {
     "name": "stdout",
     "output_type": "stream",
     "text": [
      "Too Low\n",
      "Too Low\n",
      "Too Low\n",
      "Too Low\n",
      "Too Low\n",
      "Too Low\n",
      "Found it!\n"
     ]
    }
   ],
   "source": [
    "#6.2\n",
    "guess_me = 7\n",
    "number = 1\n",
    "\n",
    "while number < guess_me:\n",
    "    print (\"Too Low\")\n",
    "    number+= 1\n",
    "if number == guess_me:\n",
    "    print (\"Found it!\")\n",
    "elif number > guess_me:\n",
    "    print (\"OOPS\")"
   ]
  },
  {
   "cell_type": "code",
   "execution_count": 17,
   "metadata": {},
   "outputs": [
    {
     "name": "stdout",
     "output_type": "stream",
     "text": [
      "too low\n",
      "too low\n",
      "too low\n",
      "too low\n",
      "too low\n",
      "too low\n",
      "too low\n",
      "found it!\n"
     ]
    }
   ],
   "source": [
    "#6.3\n",
    "guess_me = 7\n",
    "number = 1\n",
    "\n",
    "for number in range(10):\n",
    "    if number < guess_me:\n",
    "        print(\"too low\")\n",
    "    elif number == guess_me:\n",
    "        print (\"found it!\")\n",
    "        break\n",
    "    else:\n",
    "        print (\"OOPS\")\n",
    "        break"
   ]
  }
 ],
 "metadata": {
  "kernelspec": {
   "display_name": "Python 3",
   "language": "python",
   "name": "python3"
  },
  "language_info": {
   "codemirror_mode": {
    "name": "ipython",
    "version": 3
   },
   "file_extension": ".py",
   "mimetype": "text/x-python",
   "name": "python",
   "nbconvert_exporter": "python",
   "pygments_lexer": "ipython3",
   "version": "3.12.5"
  }
 },
 "nbformat": 4,
 "nbformat_minor": 2
}
